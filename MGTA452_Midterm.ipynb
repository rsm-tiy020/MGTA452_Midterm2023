{
 "cells": [
  {
   "cell_type": "code",
   "execution_count": 1,
   "metadata": {},
   "outputs": [
    {
     "data": {
      "text/plain": [
       "(   storeID  WEEK    product  s1     s2\n",
       " 0   234212  1583   24667510  30  20.10\n",
       " 1   234212  1583   24667580  27  18.09\n",
       " 2   234212  1583   24667579  36  24.12\n",
       " 3   234212  1583  181146310   2   7.18\n",
       " 4   234212  1583  181146300   7  26.13,\n",
       "    storeID        Market_Name\n",
       " 0   200059       PHILADELPHIA\n",
       " 1   200197  PEORIA/SPRINGFLD.\n",
       " 2   200272        LOS ANGELES\n",
       " 3   200297        PORTLAND,OR\n",
       " 4   200341          SAN DIEGO,\n",
       "         P0           P1     P2                    P3       P4\n",
       " 0  CHOBANI  81947001005  0.375             BLUEBERRY   NONFAT\n",
       " 1  CHOBANI  81947001051  1.000  CHOCOLATE & HONEYNAN  LOW FAT\n",
       " 2  CHOBANI  81947001003  0.375                 HONEY   NONFAT\n",
       " 3  CHOBANI  81947001010  0.375             PINEAPPLE  LOW FAT\n",
       " 4  CHOBANI  81947001006  0.375                 PEACH   NONFAT,\n",
       "      product    X1\n",
       " 0  170470300  0.47\n",
       " 1  236632260  2.62\n",
       " 2  170470650  0.48\n",
       " 3  170470307  0.54\n",
       " 4  170470313  0.57)"
      ]
     },
     "execution_count": 1,
     "metadata": {},
     "output_type": "execute_result"
    }
   ],
   "source": [
    "import pandas as pd\n",
    "\n",
    "# File paths\n",
    "sales_file_path = \"/Users/tiyang/Downloads/MGTA452_Midterm2023/sales_yogurt.csv\"\n",
    "stores_file_path = \"/Users/tiyang/Downloads/MGTA452_Midterm2023/stores_yogurt.csv\"\n",
    "products_file_path = \"/Users/tiyang/Downloads/MGTA452_Midterm2023/products_yogurt.csv\"\n",
    "extras_file_path = \"/Users/tiyang/Downloads/MGTA452_Midterm2023/extras.csv\"\n",
    "\n",
    "# Load datasets\n",
    "sales_df = pd.read_csv(sales_file_path)\n",
    "stores_df = pd.read_csv(stores_file_path)\n",
    "products_df = pd.read_csv(products_file_path)\n",
    "extras_df = pd.read_csv(extras_file_path)\n",
    "\n",
    "# Show the first few rows of each dataset\n",
    "sales_head = sales_df.head()\n",
    "stores_head = stores_df.head()\n",
    "products_head = products_df.head()\n",
    "extras_head = extras_df.head()\n",
    "\n",
    "sales_head, stores_head, products_head, extras_head\n"
   ]
  },
  {
   "cell_type": "code",
   "execution_count": 2,
   "metadata": {},
   "outputs": [
    {
     "data": {
      "text/plain": [
       "(268492, 445003)"
      ]
     },
     "execution_count": 2,
     "metadata": {},
     "output_type": "execute_result"
    }
   ],
   "source": [
    "# Step 1: Aggregate Dollar Sales\n",
    "total_sales_per_store = sales_df.groupby('storeID')['s2'].sum()\n",
    "\n",
    "# Step 2: Identify the Top Store\n",
    "top_store_sales = total_sales_per_store.idxmax(), total_sales_per_store.max()\n",
    "\n",
    "# Step 3: Report the Answer (rounded to nearest integer)\n",
    "top_store_sales_rounded = (top_store_sales[0], round(top_store_sales[1]))\n",
    "top_store_sales_rounded\n"
   ]
  },
  {
   "cell_type": "code",
   "execution_count": 3,
   "metadata": {},
   "outputs": [
    {
     "data": {
      "text/plain": [
       "('PRIVATE LABEL', 8568686)"
      ]
     },
     "execution_count": 3,
     "metadata": {},
     "output_type": "execute_result"
    }
   ],
   "source": [
    "# Step 1: Merge Datasets\n",
    "sales_with_brands = sales_df.merge(products_df[['P1', 'P0']], left_on='product', right_on='P1', how='left')\n",
    "\n",
    "# Step 2: Aggregate Dollar Sales by Brand\n",
    "total_sales_per_brand = sales_with_brands.groupby('P0')['s2'].sum()\n",
    "\n",
    "# Step 3: Identify the Top Brand\n",
    "top_brand_sales = total_sales_per_brand.idxmax(), total_sales_per_brand.max()\n",
    "\n",
    "# Step 4: Report the Answer (rounded to nearest integer)\n",
    "top_brand_sales_rounded = (top_brand_sales[0], round(top_brand_sales[1]))\n",
    "top_brand_sales_rounded\n"
   ]
  },
  {
   "cell_type": "code",
   "execution_count": 4,
   "metadata": {},
   "outputs": [
    {
     "data": {
      "text/plain": [
       "('PRIVATE LABEL', 7166144.3125)"
      ]
     },
     "execution_count": 4,
     "metadata": {},
     "output_type": "execute_result"
    }
   ],
   "source": [
    "# Step 1: Merge Datasets\n",
    "sales_with_brands_and_volume = sales_df.merge(products_df[['P1', 'P0', 'P2']], left_on='product', right_on='P1', how='left')\n",
    "\n",
    "# Step 2: Calculate Sales Volume in 16 oz Units\n",
    "sales_with_brands_and_volume['sales_volume_16oz'] = sales_with_brands_and_volume['s1'] * sales_with_brands_and_volume['P2']\n",
    "\n",
    "# Step 3: Aggregate Sales Volume by Brand\n",
    "total_volume_per_brand = sales_with_brands_and_volume.groupby('P0')['sales_volume_16oz'].sum()\n",
    "\n",
    "# Step 4: Identify the Top Brand\n",
    "top_brand_volume = total_volume_per_brand.idxmax(), total_volume_per_brand.max()\n",
    "\n",
    "# Step 5: Report the Answer\n",
    "top_brand_volume\n"
   ]
  },
  {
   "cell_type": "code",
   "execution_count": 5,
   "metadata": {},
   "outputs": [
    {
     "data": {
      "text/plain": [
       "4"
      ]
     },
     "execution_count": 5,
     "metadata": {},
     "output_type": "execute_result"
    }
   ],
   "source": [
    "# Step 1: Merge Datasets\n",
    "sales_with_flavors = sales_df.merge(products_df[['P1', 'P3']], left_on='product', right_on='P1', how='left')\n",
    "\n",
    "# Step 2: Aggregate Dollar Sales by Product\n",
    "total_sales_per_product = sales_with_flavors.groupby(['product', 'P3'])['s2'].sum()\n",
    "\n",
    "# Step 3: Identify the Top 10 Products\n",
    "top_10_products = total_sales_per_product.sort_values(ascending=False).head(10)\n",
    "\n",
    "# Step 4: Count Strawberry Flavored Products\n",
    "strawberry_flavored_products_count = top_10_products[top_10_products.index.get_level_values('P3').str.contains('STRAWBERRY')].count()\n",
    "strawberry_flavored_products_count\n"
   ]
  },
  {
   "cell_type": "code",
   "execution_count": 6,
   "metadata": {},
   "outputs": [
    {
     "data": {
      "text/plain": [
       "'NEW YORK'"
      ]
     },
     "execution_count": 6,
     "metadata": {},
     "output_type": "execute_result"
    }
   ],
   "source": [
    "# Step 1: Filter for YOPLAIT ORIGINAL\n",
    "yoplait_original_products = products_df[products_df['P0'].str.contains('YOPLAIT ORIGINAL', case=False, na=False)]\n",
    "\n",
    "# Step 2: Merge Sales and Product Data\n",
    "sales_yoplait_original = sales_df[sales_df['product'].isin(yoplait_original_products['P1'])]\n",
    "sales_yoplait_original = sales_yoplait_original.merge(yoplait_original_products[['P1', 'P2']], left_on='product', right_on='P1', how='left')\n",
    "\n",
    "# Step 3: Merge with Store Information\n",
    "sales_yoplait_original = sales_yoplait_original.merge(stores_df, on='storeID', how='left')\n",
    "\n",
    "# Step 4: Calculate Price per 16 oz\n",
    "sales_yoplait_original['price_per_16oz'] = sales_yoplait_original['s2'] / (sales_yoplait_original['s1'] * sales_yoplait_original['P2'])\n",
    "\n",
    "# Step 5: Calculate Average Price per 16 oz by Market\n",
    "average_price_per_16oz_by_market = sales_yoplait_original.groupby('Market_Name')['price_per_16oz'].mean()\n",
    "\n",
    "# Step 6: Identify Markets with Highest and Lowest Average Price\n",
    "market_highest_average_price = average_price_per_16oz_by_market.idxmax()\n",
    "\n",
    "\n",
    "market_highest_average_price\n"
   ]
  },
  {
   "cell_type": "code",
   "execution_count": 7,
   "metadata": {},
   "outputs": [
    {
     "data": {
      "text/plain": [
       "'TOLEDO'"
      ]
     },
     "execution_count": 7,
     "metadata": {},
     "output_type": "execute_result"
    }
   ],
   "source": [
    "# Provided options for the market with the lowest average price per 16oz\n",
    "options_lowest_price_market = [\n",
    "    \"ATLANTA\", \"NEW ORLEANS, LA\", \"NEW YORK\", \"SACRAMENTO\",\n",
    "    \"DETROIT\", \"CHICAGO\", \"TOLEDO\", \"TULSA,OK\"\n",
    "]\n",
    "\n",
    "# Filter the average price per 16oz data to the provided options\n",
    "average_price_filtered_options = average_price_per_16oz_by_market[average_price_per_16oz_by_market.index.isin(options_lowest_price_market)]\n",
    "\n",
    "# Identify the market with the lowest average price per 16oz\n",
    "market_lowest_average_price_filtered = average_price_filtered_options.idxmin()\n",
    "market_lowest_average_price_filtered\n"
   ]
  },
  {
   "cell_type": "code",
   "execution_count": 8,
   "metadata": {},
   "outputs": [
    {
     "data": {
      "text/plain": [
       "('LOS ANGELES', 0.12)"
      ]
     },
     "execution_count": 8,
     "metadata": {},
     "output_type": "execute_result"
    }
   ],
   "source": [
    "# Step 1: Filter for YOPLAIT ORIGINAL\n",
    "yoplait_original_products = products_df[products_df['P0'].str.contains('YOPLAIT ORIGINAL', case=False, na=False)]\n",
    "\n",
    "# Step 2: Merge Sales and Product Data\n",
    "sales_yoplait_original = sales_df[sales_df['product'].isin(yoplait_original_products['P1'])]\n",
    "sales_yoplait_original = sales_yoplait_original.merge(yoplait_original_products[['P1', 'P2']], left_on='product', right_on='P1', how='left')\n",
    "\n",
    "# Step 3: Merge with Store Information\n",
    "sales_yoplait_original = sales_yoplait_original.merge(stores_df, on='storeID', how='left')\n",
    "\n",
    "# Step 4: Aggregate Dollar Sales by Market\n",
    "total_sales_per_market = sales_yoplait_original.groupby('Market_Name')['s2'].sum()\n",
    "\n",
    "# Step 5: Calculate Total Dollar Sales for YOPLAIT ORIGINAL\n",
    "total_dollar_sales_yoplait_original = total_sales_per_market.sum()\n",
    "\n",
    "# Step 6: Calculate Market Share\n",
    "market_share = total_sales_per_market / total_dollar_sales_yoplait_original\n",
    "\n",
    "# Step 7: Identify Market with Highest Market Share\n",
    "market_highest_share = market_share.idxmax(), market_share.max()\n",
    "\n",
    "# Format the result to two digits\n",
    "market_highest_share_formatted = (market_highest_share[0], round(market_highest_share[1], 2))\n",
    "market_highest_share_formatted\n"
   ]
  },
  {
   "cell_type": "code",
   "execution_count": 9,
   "metadata": {},
   "outputs": [
    {
     "data": {
      "text/plain": [
       "(170470300, 154135)"
      ]
     },
     "execution_count": 9,
     "metadata": {},
     "output_type": "execute_result"
    }
   ],
   "source": [
    "# Step 1: Merge Sales Data and Wholesale Prices\n",
    "sales_with_cost = sales_df.merge(extras_df, left_on='product', right_on='product', how='left')\n",
    "\n",
    "# Step 2: Calculate Total Cost and Profit\n",
    "sales_with_cost['total_cost'] = sales_with_cost['X1'] * sales_with_cost['s1']\n",
    "sales_with_cost['profit'] = sales_with_cost['s2'] - sales_with_cost['total_cost']\n",
    "\n",
    "# Step 3: Aggregate Profit by Product\n",
    "total_profit_per_product = sales_with_cost.groupby('product')['profit'].sum()\n",
    "\n",
    "# Step 4: Identify the Product with the Highest Total Profit\n",
    "highest_profit_product = total_profit_per_product.idxmax(), total_profit_per_product.max()\n",
    "\n",
    "# Step 5: Report the Total Profit (rounded to nearest integer)\n",
    "highest_profit_product_rounded = (highest_profit_product[0], round(highest_profit_product[1]))\n",
    "highest_profit_product_rounded\n"
   ]
  },
  {
   "cell_type": "code",
   "execution_count": 10,
   "metadata": {},
   "outputs": [
    {
     "data": {
      "text/plain": [
       "P4\n",
       "LOW FAT           inf\n",
       "NONFAT       2.057267\n",
       "1% LOWFAT    1.284094\n",
       "Name: price_per_16oz, dtype: float64"
      ]
     },
     "execution_count": 10,
     "metadata": {},
     "output_type": "execute_result"
    }
   ],
   "source": [
    "# Step 1: Merge Sales and Product Data\n",
    "sales_with_fat_content = sales_df.merge(products_df[['P1', 'P4', 'P2']], left_on='product', right_on='P1', how='left')\n",
    "\n",
    "# Step 2: Calculate Price per 16 oz\n",
    "sales_with_fat_content['price_per_16oz'] = sales_with_fat_content['s2'] / (sales_with_fat_content['s1'] * sales_with_fat_content['P2'])\n",
    "\n",
    "# Step 3: Filter for Selected Fat Contents\n",
    "selected_fat_contents = [\"LOW FAT\", \"NONFAT\", \"1% LOWFAT\"]\n",
    "sales_selected_fat_contents = sales_with_fat_content[sales_with_fat_content['P4'].isin(selected_fat_contents)]\n",
    "\n",
    "# Step 4: Calculate Average Price per 16 oz by Fat Content\n",
    "average_price_per_16oz_by_fat_content = sales_selected_fat_contents.groupby('P4')['price_per_16oz'].mean()\n",
    "\n",
    "# Step 5: Rank the Prices\n",
    "price_rank = average_price_per_16oz_by_fat_content.sort_values(ascending=False)\n",
    "price_rank\n"
   ]
  }
 ],
 "metadata": {
  "kernelspec": {
   "display_name": "Python 3",
   "language": "python",
   "name": "python3"
  },
  "language_info": {
   "codemirror_mode": {
    "name": "ipython",
    "version": 3
   },
   "file_extension": ".py",
   "mimetype": "text/x-python",
   "name": "python",
   "nbconvert_exporter": "python",
   "pygments_lexer": "ipython3",
   "version": "3.11.4"
  }
 },
 "nbformat": 4,
 "nbformat_minor": 2
}
